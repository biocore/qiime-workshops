{
 "metadata": {
  "name": "",
  "signature": "sha256:c2f0909b5089aa98ddc9500e605b01d6d15d4e483b67de77e65653d2f1582734"
 },
 "nbformat": 3,
 "nbformat_minor": 0,
 "worksheets": [
  {
   "cells": [
    {
     "cell_type": "heading",
     "level": 1,
     "metadata": {},
     "source": [
      "QIIME Workshop Commands: Working with OTU tables"
     ]
    },
    {
     "cell_type": "markdown",
     "metadata": {},
     "source": [
      "There are many ways to manipulate OTU tables in QIIME, including filtering, sorting, splitting, rarefying, merging, and summarizing. In this tutorial, we'll see how to filter samples based on their metadata, filter OTUs based on their abundance, sort samples based on taxonomic abundance, split an OTU table based on taxonomy, and filter an OTU table based on taxonomy.\n",
      "\n",
      "Let's create a new directory where we'll try out a few exercises:"
     ]
    },
    {
     "cell_type": "heading",
     "level": 2,
     "metadata": {},
     "source": [
      "Getting started"
     ]
    },
    {
     "cell_type": "markdown",
     "metadata": {},
     "source": [
      "```\n",
      "mkdir otu_exercises\n",
      "```"
     ]
    },
    {
     "cell_type": "markdown",
     "metadata": {},
     "source": [
      "For convenience, we'll copy the open-reference OTU table and mapping file we created yesterday during the Microbial Community Diversity tutorial. Note that we're renaming the files to have shorter names (also for convenience and clarity in the following exercises):"
     ]
    },
    {
     "cell_type": "markdown",
     "metadata": {},
     "source": [
      "```\n",
      "cp moving_pictures_tutorial-1.8.0/illumina/otus/otu_table_mc2_w_tax_no_pynast_failures.biom otu_exercises/otu_table.biom\n",
      "```"
     ]
    },
    {
     "cell_type": "markdown",
     "metadata": {},
     "source": [
      "```\n",
      "cp moving_pictures_tutorial-1.8.0/illumina/combined_mapping_file.txt otu_exercises/map.txt\n",
      "```"
     ]
    },
    {
     "cell_type": "markdown",
     "metadata": {},
     "source": [
      "```\n",
      "cd otu_exercises\n",
      "```"
     ]
    },
    {
     "cell_type": "heading",
     "level": 2,
     "metadata": {},
     "source": [
      "Filtering samples"
     ]
    },
    {
     "cell_type": "markdown",
     "metadata": {},
     "source": [
      "First, let's practice filtering samples from an OTU table based on their metadata. Recall that the taxa summary plots we looked at yesterday had the samples grouped by four sample types (left/right palm, feces, and tongue). Let's filter out samples so that our new table only contains feces and tongue samples:"
     ]
    },
    {
     "cell_type": "markdown",
     "metadata": {},
     "source": [
      "```\n",
      "filter_samples_from_otu_table.py -o otu_table_feces_Tongue.biom -i otu_table.biom -m map.txt -s 'SampleType:feces,Tongue'\n",
      "```"
     ]
    },
    {
     "cell_type": "markdown",
     "metadata": {},
     "source": [
      "For more details about how to specify what samples to retain/discard based on their metadata, see QIIME's [sample metadata description tutorial](http://qiime.org/tutorials/metadata_description.html).\n",
      "\n",
      "Next, let's create taxa summary plots using our filtered OTU table, grouping samples by their type:"
     ]
    },
    {
     "cell_type": "markdown",
     "metadata": {},
     "source": [
      "```\n",
      "summarize_taxa_through_plots.py -o taxa_plots_feces_Tongue -i otu_table_feces_Tongue.biom -m map.txt -c SampleType\n",
      "```"
     ]
    },
    {
     "cell_type": "markdown",
     "metadata": {},
     "source": [
      "Open up the resulting bar charts. Note that there are only bars for feces and tongue samples; left/right palm samples have been excluded."
     ]
    },
    {
     "cell_type": "heading",
     "level": 2,
     "metadata": {},
     "source": [
      "Filtering OTUs"
     ]
    },
    {
     "cell_type": "markdown",
     "metadata": {},
     "source": [
      "In the previous exercise, we filtered samples from our OTU table. We can also filter OTUs from an OTU table in a variety of ways. Let's filter out all *singleton* and *doubleton* OTUs from the table, keeping only OTUs that have a count of 3 or more across all samples:"
     ]
    },
    {
     "cell_type": "markdown",
     "metadata": {},
     "source": [
      "```\n",
      "filter_otus_from_otu_table.py -o otu_table_min_count_3.biom -i otu_table.biom -n 3\n",
      "```"
     ]
    },
    {
     "cell_type": "markdown",
     "metadata": {},
     "source": [
      "Let's generate summaries of our original and filtered OTU tables:"
     ]
    },
    {
     "cell_type": "markdown",
     "metadata": {},
     "source": [
      "```\n",
      "biom summarize-table -i otu_table.biom -o otu_table_summary.txt\n",
      "```"
     ]
    },
    {
     "cell_type": "markdown",
     "metadata": {},
     "source": [
      "```\n",
      "biom summarize-table -i otu_table_min_count_3.biom -o otu_table_min_count_3_summary.txt\n",
      "```"
     ]
    },
    {
     "cell_type": "markdown",
     "metadata": {},
     "source": [
      "Go ahead and take a look at the summaries. Note that there are fewer OTUs in the filtered table than the original (look for the *Num observations* field at the top of the summary):"
     ]
    },
    {
     "cell_type": "markdown",
     "metadata": {},
     "source": [
      "```\n",
      "less otu_table_summary.txt\n",
      "```"
     ]
    },
    {
     "cell_type": "markdown",
     "metadata": {},
     "source": [
      "```\n",
      "less otu_table_min_count_3_summary.txt\n",
      "```"
     ]
    },
    {
     "cell_type": "heading",
     "level": 2,
     "metadata": {},
     "source": [
      "Sorting samples"
     ]
    },
    {
     "cell_type": "markdown",
     "metadata": {},
     "source": [
      "Next, let's sort the samples in our original OTU table based on relative abundance of the Bacteroidetes phylum. To do this, we first need to add the relative abundances of each phyla to our mapping file. We pass `-L 2` to specify taxonomic level 2, which is phylum level in the case of Greengenes taxonomies:"
     ]
    },
    {
     "cell_type": "markdown",
     "metadata": {},
     "source": [
      "```\n",
      "summarize_taxa.py -o taxa_summaries_L2_mapping_file -i otu_table.biom -m map.txt -L 2\n",
      "```"
     ]
    },
    {
     "cell_type": "markdown",
     "metadata": {},
     "source": [
      "The new mapping file with phyla relative abundances is created in the `taxa_summaries_L2_mapping_file` directory.\n",
      "\n",
      "Now that we have columns of relative abundances in our mapping file, we can sort the samples in the OTU table by Bacteroidetes relative abundances:"
     ]
    },
    {
     "cell_type": "markdown",
     "metadata": {},
     "source": [
      "```\n",
      "sort_otu_table.py -o otu_table_sorted_bacteroidetes.biom -i otu_table.biom -m taxa_summaries_L2_mapping_file/map_L2.txt -s 'k__Bacteria;p__Bacteroidetes'\n",
      "```"
     ]
    },
    {
     "cell_type": "markdown",
     "metadata": {},
     "source": [
      "Finally, let's create taxa summary plots using our sorted table. We don't provide a mapping file or column because we don't want to group samples by metadata:"
     ]
    },
    {
     "cell_type": "markdown",
     "metadata": {},
     "source": [
      "```\n",
      "summarize_taxa_through_plots.py -o taxa_plots_sorted_bacteroidetes -i otu_table_sorted_bacteroidetes.biom\n",
      "```"
     ]
    },
    {
     "cell_type": "markdown",
     "metadata": {},
     "source": [
      "Open up the resulting area charts. The samples should be sorted by lowest to highest abundance of Bacteroidetes."
     ]
    },
    {
     "cell_type": "heading",
     "level": 2,
     "metadata": {},
     "source": [
      "Splitting by taxonomy"
     ]
    },
    {
     "cell_type": "markdown",
     "metadata": {},
     "source": [
      "As a final example, let's split our original OTU table at the phylum level, creating a new OTU table for each phylum in the original table. Just like before, we specify `-L 2` to split at the phylum level:"
     ]
    },
    {
     "cell_type": "markdown",
     "metadata": {},
     "source": [
      "```\n",
      "split_otu_table_by_taxonomy.py -o split_otu_table_L2 -i otu_table.biom -L 2\n",
      "```"
     ]
    },
    {
     "cell_type": "markdown",
     "metadata": {},
     "source": [
      "To create taxa summary plots using the OTU table containing only Bacteroidetes, we run:"
     ]
    },
    {
     "cell_type": "markdown",
     "metadata": {},
     "source": [
      "```\n",
      "summarize_taxa_through_plots.py -o taxa_plots_bacteroidetes -i split_otu_table_L2/otu_table_k__Bacteria_p__Bacteroidetes.biom -m map.txt -c SampleType\n",
      "```"
     ]
    },
    {
     "cell_type": "markdown",
     "metadata": {},
     "source": [
      "There are many other ways to manipulate OTU tables in QIIME. For more details, see QIIME's [working with BIOM tables tutorial](http://qiime.org/tutorials/working_with_biom_tables.html)."
     ]
    }
   ],
   "metadata": {}
  }
 ]
}