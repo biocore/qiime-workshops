{
 "metadata": {
  "name": "",
  "signature": "sha256:e60dfb09b84e50b1526504d5e57f8b3ff07a36473f5ad1b87ad75af82b4bb1de"
 },
 "nbformat": 3,
 "nbformat_minor": 0,
 "worksheets": [
  {
   "cells": [
    {
     "cell_type": "heading",
     "level": 1,
     "metadata": {},
     "source": [
      "QIIME Workshop Commands: Working with OTU tables"
     ]
    },
    {
     "cell_type": "markdown",
     "metadata": {},
     "source": [
      "There are many ways to manipulate OTU tables in QIIME, including filtering, sorting, splitting, rarefying, merging, and summarizing. In this tutorial, we'll see how to filter samples based on their metadata, sort samples based on taxonomic abundance, and split an OTU table based on taxonomy.\n",
      "\n",
      "Let's create a new directory where we'll try out a few exercises:"
     ]
    },
    {
     "cell_type": "markdown",
     "metadata": {},
     "source": [
      "```\n",
      "mkdir otu_exercises\n",
      "```"
     ]
    },
    {
     "cell_type": "markdown",
     "metadata": {},
     "source": [
      "For convenience, we'll copy the open-reference OTU table and mapping file we created yesterday during the Microbial Community Diversity tutorial. Note that we're renaming the files to have shorter names (also for convenience and clarity in the following exercises):"
     ]
    },
    {
     "cell_type": "markdown",
     "metadata": {},
     "source": [
      "```\n",
      "cp moving_pictures_tutorial-1.8.0/illumina/otus/otu_table_mc2_w_tax_no_pynast_failures.biom otu_exercises/otu_table.biom\n",
      "```"
     ]
    },
    {
     "cell_type": "markdown",
     "metadata": {},
     "source": [
      "```\n",
      "cp moving_pictures_tutorial-1.8.0/illumina/combined_mapping_file.txt otu_exercises/map.txt\n",
      "```"
     ]
    },
    {
     "cell_type": "markdown",
     "metadata": {},
     "source": [
      "```\n",
      "cd otu_exercises\n",
      "```"
     ]
    },
    {
     "cell_type": "markdown",
     "metadata": {},
     "source": [
      "First, let's practice filtering samples from an OTU table based on their metadata. Recall that the taxa summary plots we looked at yesterday had the samples grouped by four sample types (left/right palm, feces, and tongue). Let's filter out samples so that our new table only contains feces and tongue samples:"
     ]
    },
    {
     "cell_type": "markdown",
     "metadata": {},
     "source": [
      "```\n",
      "filter_samples_from_otu_table.py -o otu_table_feces_Tongue.biom -i otu_table.biom -m map.txt -s 'SampleType:feces,Tongue'\n",
      "```"
     ]
    },
    {
     "cell_type": "markdown",
     "metadata": {},
     "source": [
      "For more details about how to specify what samples to retain/discard based on their metadata, see QIIME's [sample metadata description tutorial](http://qiime.org/tutorials/metadata_description.html).\n",
      "\n",
      "Next, let's create taxa summary plots using our filtered OTU table, grouping samples by their type:"
     ]
    },
    {
     "cell_type": "markdown",
     "metadata": {},
     "source": [
      "```\n",
      "summarize_taxa_through_plots.py -o taxa_plots_feces_Tongue -i otu_table_feces_Tongue.biom -m map.txt -c SampleType\n",
      "```"
     ]
    },
    {
     "cell_type": "markdown",
     "metadata": {},
     "source": [
      "Open up the resulting bar charts. Note that there are only bars for feces and tongue samples; left/right palm samples have been excluded.\n",
      "\n",
      "Next, let's sort the samples in our original OTU table based on relative abundance of the Bacteroidetes phylum. To do this, we first need to add the relative abundances of each phyla to our mapping file. We pass `-L 2` to specify taxonomic level 2, which is phylum level in the case of Greengenes taxonomies:"
     ]
    },
    {
     "cell_type": "markdown",
     "metadata": {},
     "source": [
      "```\n",
      "summarize_taxa.py -o taxa_summaries_L2_mapping_file -i otu_table.biom -m map.txt -L 2\n",
      "```"
     ]
    },
    {
     "cell_type": "markdown",
     "metadata": {},
     "source": [
      "The new mapping file with phyla relative abundances is created in the `taxa_summaries_L2_mapping_file` directory.\n",
      "\n",
      "Now that we have columns of relative abundances in our mapping file, we can sort the samples in the OTU table by Bacteroidetes relative abundances:"
     ]
    },
    {
     "cell_type": "markdown",
     "metadata": {},
     "source": [
      "```\n",
      "sort_otu_table.py -o otu_table_sorted_bacteroidetes.biom -i otu_table.biom -m taxa_summaries_L2_mapping_file/map_L2.txt -s 'k__Bacteria;p__Bacteroidetes'\n",
      "```"
     ]
    },
    {
     "cell_type": "markdown",
     "metadata": {},
     "source": [
      "Finally, let's create taxa summary plots using our sorted table. We don't provide a mapping file or column because we don't want to group samples by metadata:"
     ]
    },
    {
     "cell_type": "markdown",
     "metadata": {},
     "source": [
      "```\n",
      "summarize_taxa_through_plots.py -o taxa_plots_sorted_bacteroidetes -i otu_table_sorted_bacteroidetes.biom\n",
      "```"
     ]
    },
    {
     "cell_type": "markdown",
     "metadata": {},
     "source": [
      "Open up the resulting area charts. The samples should be sorted by lowest to highest abundance of Bacteroidetes.\n",
      "\n",
      "As a final example, let's split our original OTU table at the phylum level, creating a new OTU table for each phylum in the original table. Just like before, we specify `-L 2` to split at the phylum level:"
     ]
    },
    {
     "cell_type": "markdown",
     "metadata": {},
     "source": [
      "```\n",
      "split_otu_table_by_taxonomy.py -o split_otu_table_L2 -i otu_table.biom -L 2\n",
      "```"
     ]
    },
    {
     "cell_type": "markdown",
     "metadata": {},
     "source": [
      "To create taxa summary plots using the OTU table containing only Bacteroidetes, we run:"
     ]
    },
    {
     "cell_type": "markdown",
     "metadata": {},
     "source": [
      "```\n",
      "summarize_taxa_through_plots.py -o taxa_plots_bacteroidetes -i split_otu_table_L2/otu_table_k__Bacteria_p__Bacteroidetes.biom -m map.txt -c SampleType\n",
      "```"
     ]
    },
    {
     "cell_type": "markdown",
     "metadata": {},
     "source": [
      "There are many other ways to manipulate OTU tables in QIIME. For more details, see QIIME's [working with BIOM tables tutorial](http://qiime.org/tutorials/working_with_biom_tables.html)."
     ]
    }
   ],
   "metadata": {}
  }
 ]
}