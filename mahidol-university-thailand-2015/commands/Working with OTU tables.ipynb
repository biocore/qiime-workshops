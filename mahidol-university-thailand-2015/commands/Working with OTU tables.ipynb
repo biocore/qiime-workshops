{
 "cells": [
  {
   "cell_type": "markdown",
   "metadata": {},
   "source": [
    "# Working with OTU tables"
   ]
  },
  {
   "cell_type": "markdown",
   "metadata": {},
   "source": [
    "There are many ways to manipulate OTU tables in QIIME, including filtering, sorting, splitting, rarefying, merging, and summarizing. In this tutorial, we'll see how to filter OTUs based on their abundance, filter samples based on their metadata, sort samples based on taxonomic abundance, split an OTU table based on taxonomy, and filter an OTU table based on taxonomy."
   ]
  },
  {
   "cell_type": "markdown",
   "metadata": {},
   "source": [
    "## Getting started"
   ]
  },
  {
   "cell_type": "markdown",
   "metadata": {},
   "source": [
    "Let's create a new directory where we'll try out a few exercises. For convenience, we'll copy the open-reference OTU table and mapping file we created in the QIIME Illumina Overview Tutorial. Note that we're renaming the files to have shorter names (also for convenience and clarity in the following exercises)."
   ]
  },
  {
   "cell_type": "code",
   "execution_count": null,
   "metadata": {
    "collapsed": true
   },
   "outputs": [],
   "source": [
    "from os import chdir\n",
    "from os.path import join\n",
    "from functools import partial\n",
    "from IPython.display import FileLinks, FileLink\n",
    "\n",
    "chdir(working_dir)\n",
    "\n",
    "!mkdir -p otu-table-exercises\n",
    "!cp moving_pictures_tutorial-1.9.0/illumina/otus/otu_table_mc2_w_tax_no_pynast_failures.biom otu-table-exercises/otu_table.biom\n",
    "!cp moving_pictures_tutorial-1.9.0/illumina/map.tsv otu-table-exercises/map.tsv\n",
    "\n",
    "tutorial_dir = 'otu-table-exercises/'\n",
    "chdir(tutorial_dir)\n",
    "FileLink = partial(FileLink, url_prefix=join('exercises', name, tutorial_dir))\n",
    "FileLinks = partial(FileLinks, url_prefix=join('exercises', name, tutorial_dir))"
   ]
  },
  {
   "cell_type": "markdown",
   "metadata": {},
   "source": [
    "## Filtering OTUs"
   ]
  },
  {
   "cell_type": "markdown",
   "metadata": {},
   "source": [
    "First, let's practice filtering OTUs from an OTU table. Let's filter out all *singleton* and *doubleton* OTUs from the table, keeping only OTUs that have a count of 3 or more across all samples:"
   ]
  },
  {
   "cell_type": "code",
   "execution_count": null,
   "metadata": {
    "collapsed": true
   },
   "outputs": [],
   "source": [
    "!filter_otus_from_otu_table.py -o otu_table_min_count_3.biom -i otu_table.biom -n 3"
   ]
  },
  {
   "cell_type": "markdown",
   "metadata": {},
   "source": [
    "Let's generate summaries of our original and filtered OTU tables:"
   ]
  },
  {
   "cell_type": "code",
   "execution_count": null,
   "metadata": {
    "collapsed": true
   },
   "outputs": [],
   "source": [
    "!biom summarize-table -i otu_table.biom"
   ]
  },
  {
   "cell_type": "code",
   "execution_count": null,
   "metadata": {
    "collapsed": true
   },
   "outputs": [],
   "source": [
    "!biom summarize-table -i otu_table_min_count_3.biom"
   ]
  },
  {
   "cell_type": "markdown",
   "metadata": {},
   "source": [
    "Note that there are fewer OTUs in the filtered table than the original (look for the *Num observations* field at the top of the summary)."
   ]
  },
  {
   "cell_type": "markdown",
   "metadata": {},
   "source": [
    "## Filtering samples"
   ]
  },
  {
   "cell_type": "markdown",
   "metadata": {},
   "source": [
    "In the previous exercise, we filtered OTUs from our OTU table. We can also filter samples from an OTU table based on their metadata. Recall that the taxa summary plots in the QIIME Illumina Overview Tutorial had the samples grouped by four sample types (left/right palm, gut, and tongue). Let's filter out samples so that our new table only contains gut and tongue samples:"
   ]
  },
  {
   "cell_type": "code",
   "execution_count": null,
   "metadata": {
    "collapsed": true
   },
   "outputs": [],
   "source": [
    "!filter_samples_from_otu_table.py -o otu_table_gut_tongue.biom -i otu_table.biom -m map.tsv -s 'SampleType:gut,tongue'"
   ]
  },
  {
   "cell_type": "markdown",
   "metadata": {},
   "source": [
    "For more details about how to specify what samples to retain/discard based on their metadata, see QIIME's [sample metadata description tutorial](http://qiime.org/tutorials/metadata_description.html).\n",
    "\n",
    "Next, let's create taxa summary plots using our filtered OTU table, grouping samples by their type:"
   ]
  },
  {
   "cell_type": "code",
   "execution_count": null,
   "metadata": {
    "collapsed": true
   },
   "outputs": [],
   "source": [
    "!summarize_taxa_through_plots.py -o taxa_plots_gut_tongue -i otu_table_gut_tongue.biom -m map.tsv -c SampleType"
   ]
  },
  {
   "cell_type": "markdown",
   "metadata": {},
   "source": [
    "Open up the resulting bar charts. Note that there are only bars for gut and tongue samples; left/right palm samples have been excluded."
   ]
  },
  {
   "cell_type": "code",
   "execution_count": null,
   "metadata": {
    "collapsed": true
   },
   "outputs": [],
   "source": [
    "FileLink('taxa_plots_gut_tongue/taxa_summary_plots/bar_charts.html')"
   ]
  },
  {
   "cell_type": "markdown",
   "metadata": {},
   "source": [
    "## Sorting samples"
   ]
  },
  {
   "cell_type": "markdown",
   "metadata": {},
   "source": [
    "Next, let's sort the samples in our original OTU table based on relative abundance of the Bacteroidetes phylum. To do this, we first need to add the relative abundances of each phyla to our mapping file. We pass `-L 2` to specify taxonomic level 2, which is phylum level in the case of Greengenes taxonomies:"
   ]
  },
  {
   "cell_type": "code",
   "execution_count": null,
   "metadata": {
    "collapsed": true
   },
   "outputs": [],
   "source": [
    "!summarize_taxa.py -o taxa_summaries_L2_mapping_file -i otu_table.biom -m map.tsv -L 2"
   ]
  },
  {
   "cell_type": "markdown",
   "metadata": {},
   "source": [
    "The new mapping file with phyla relative abundances is created in the `taxa_summaries_L2_mapping_file` directory.\n",
    "\n",
    "Now that we have columns of relative abundances in our mapping file, we can sort the samples in the OTU table by Bacteroidetes relative abundances:"
   ]
  },
  {
   "cell_type": "code",
   "execution_count": null,
   "metadata": {
    "collapsed": true
   },
   "outputs": [],
   "source": [
    "!sort_otu_table.py -o otu_table_sorted_bacteroidetes.biom -i otu_table.biom -m taxa_summaries_L2_mapping_file/map_L2.txt -s 'k__Bacteria;p__Bacteroidetes'"
   ]
  },
  {
   "cell_type": "markdown",
   "metadata": {},
   "source": [
    "Finally, let's create taxa summary plots using our sorted table. We don't provide a mapping file or column because we don't want to group samples by metadata:"
   ]
  },
  {
   "cell_type": "code",
   "execution_count": null,
   "metadata": {
    "collapsed": true
   },
   "outputs": [],
   "source": [
    "!summarize_taxa_through_plots.py -o taxa_plots_sorted_bacteroidetes -i otu_table_sorted_bacteroidetes.biom"
   ]
  },
  {
   "cell_type": "markdown",
   "metadata": {},
   "source": [
    "Open up the resulting area charts. The samples should be sorted by lowest to highest abundance of Bacteroidetes."
   ]
  },
  {
   "cell_type": "code",
   "execution_count": null,
   "metadata": {
    "collapsed": true
   },
   "outputs": [],
   "source": [
    "FileLink('taxa_plots_sorted_bacteroidetes/taxa_summary_plots/area_charts.html')"
   ]
  },
  {
   "cell_type": "markdown",
   "metadata": {},
   "source": [
    "## Splitting by taxonomy"
   ]
  },
  {
   "cell_type": "markdown",
   "metadata": {},
   "source": [
    "Let's split our original OTU table at the phylum level, creating a new OTU table for each phylum in the original table. Just like before, we specify `-L 2` to split at the phylum level:"
   ]
  },
  {
   "cell_type": "code",
   "execution_count": null,
   "metadata": {
    "collapsed": true
   },
   "outputs": [],
   "source": [
    "!split_otu_table_by_taxonomy.py -o split_otu_table_L2 -i otu_table.biom -L 2"
   ]
  },
  {
   "cell_type": "markdown",
   "metadata": {},
   "source": [
    "To create taxa summary plots using the OTU table containing only Bacteroidetes, we run:"
   ]
  },
  {
   "cell_type": "code",
   "execution_count": null,
   "metadata": {
    "collapsed": true
   },
   "outputs": [],
   "source": [
    "!summarize_taxa_through_plots.py -o taxa_plots_bacteroidetes -i split_otu_table_L2/otu_table_k__Bacteria_p__Bacteroidetes.biom -m map.tsv -c SampleType"
   ]
  },
  {
   "cell_type": "code",
   "execution_count": null,
   "metadata": {
    "collapsed": true
   },
   "outputs": [],
   "source": [
    "FileLink('taxa_plots_bacteroidetes/taxa_summary_plots/bar_charts.html')"
   ]
  },
  {
   "cell_type": "markdown",
   "metadata": {},
   "source": [
    "## Filtering taxa"
   ]
  },
  {
   "cell_type": "markdown",
   "metadata": {},
   "source": [
    "As a final example, let's filter out all Firmicutes from our original OTU table:"
   ]
  },
  {
   "cell_type": "code",
   "execution_count": null,
   "metadata": {
    "collapsed": true
   },
   "outputs": [],
   "source": [
    "!filter_taxa_from_otu_table.py -o otu_table_no_firmicutes.biom -i otu_table.biom -n 'p__Firmicutes'"
   ]
  },
  {
   "cell_type": "markdown",
   "metadata": {},
   "source": [
    "To create taxa summary plots, we run:"
   ]
  },
  {
   "cell_type": "code",
   "execution_count": null,
   "metadata": {
    "collapsed": true
   },
   "outputs": [],
   "source": [
    "!summarize_taxa_through_plots.py -o taxa_plots_no_firmicutes -i otu_table_no_firmicutes.biom -m map.tsv -c SampleType"
   ]
  },
  {
   "cell_type": "markdown",
   "metadata": {},
   "source": [
    "Open up the resulting bar charts. Note that Firmicutes aren't present in the taxa summary plots because they were filtered out of the OTU table."
   ]
  },
  {
   "cell_type": "code",
   "execution_count": null,
   "metadata": {
    "collapsed": true
   },
   "outputs": [],
   "source": [
    "FileLink('taxa_plots_no_firmicutes/taxa_summary_plots/bar_charts.html')"
   ]
  },
  {
   "cell_type": "markdown",
   "metadata": {},
   "source": [
    "There are many other ways to manipulate OTU tables in QIIME. For more details, see QIIME's [working with BIOM tables tutorial](http://qiime.org/tutorials/working_with_biom_tables.html)."
   ]
  },
  {
   "cell_type": "markdown",
   "metadata": {},
   "source": [
    "## Exercises"
   ]
  },
  {
   "cell_type": "markdown",
   "metadata": {},
   "source": [
    "1. Filter the original OTU table (`otu_table.biom`) to include only OTUs that have a count less than 3 across all samples. How many OTUs are left in the table?\n",
    "\n",
    "2. Filter the original OTU table (`otu_table.biom`) to remove samples that were taken during antibiotic usage. How many samples were removed?\n",
    "\n",
    "   **Hint:** The relevant column denoting antibiotic usage is `ReportedAntibioticUsage`. This column contains the values `Yes` and `No`."
   ]
  }
 ],
 "metadata": {
  "kernelspec": {
   "display_name": "Python 2",
   "language": "python",
   "name": "python2"
  },
  "language_info": {
   "codemirror_mode": {
    "name": "ipython",
    "version": 2
   },
   "file_extension": ".py",
   "mimetype": "text/x-python",
   "name": "python",
   "nbconvert_exporter": "python",
   "pygments_lexer": "ipython2",
   "version": "2.7.3"
  }
 },
 "nbformat": 4,
 "nbformat_minor": 0
}
