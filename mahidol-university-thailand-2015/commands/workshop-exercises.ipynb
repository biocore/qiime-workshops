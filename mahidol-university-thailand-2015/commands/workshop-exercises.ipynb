{
 "cells": [
  {
   "cell_type": "markdown",
   "metadata": {},
   "source": [
    "## Mahidol University QIIME workshop exercises\n",
    "\n",
    "This notebook was designed to run the [QIIME Illumina Overview Tutorial](http://qiime.org/tutorials/illumina_overview_tutorial.html) and additional tutorials/exercises on the QIIME 1.9.1 Amazon Web Services EC2 instance. You can find the AMI ID on the [QIIME resources page](http://qiime.org/home_static/dataFiles.html). These steps covered here are important for having multiple users working on a single IPython Notebook server, but are a little bit overkill if you're running this on your own AWS instance. If you're running this on your own instance, you should instead work with the IPython Notebook linked from [here](http://qiime.org/tutorials/illumina_overview_tutorial.html#ipython-notebook)."
   ]
  },
  {
   "cell_type": "markdown",
   "metadata": {},
   "source": [
    "## Enter your full name here"
   ]
  },
  {
   "cell_type": "markdown",
   "metadata": {},
   "source": [
    "This will be used to create a personal working directory for you. Use dashes (`-`) instead of spaces."
   ]
  },
  {
   "cell_type": "code",
   "execution_count": null,
   "metadata": {
    "collapsed": true
   },
   "outputs": [],
   "source": [
    "name = \"\""
   ]
  },
  {
   "cell_type": "markdown",
   "metadata": {},
   "source": [
    "## Getting started\n",
    "\n",
    "We'll begin by initializing some variables to configure our IPython computing environment. Don't edit anything in this first cell. "
   ]
  },
  {
   "cell_type": "code",
   "execution_count": null,
   "metadata": {
    "collapsed": false
   },
   "outputs": [],
   "source": [
    "from os import chdir\n",
    "from os.path import exists, join\n",
    "from functools import partial\n",
    "from IPython.display import FileLinks, FileLink\n",
    "\n",
    "if not name:\n",
    "    raise ValueError(\"Please enter your full name in the previous cell.\")\n",
    "\n",
    "working_dir = join(\"/mnt/workshop/exercises\", name)\n",
    "\n",
    "!mkdir -p $working_dir\n",
    "chdir(working_dir)\n",
    "print \"Your personal working directory is %s\\n\" % working_dir\n",
    "\n",
    "if not exists('moving_pictures_tutorial-1.9.0'):\n",
    "    !wget ftp://ftp.microbio.me/qiime/tutorial_files/moving_pictures_tutorial-1.9.0.tgz\n",
    "    !tar -xzf moving_pictures_tutorial-1.9.0.tgz\n",
    "\n",
    "tutorial_dir = 'moving_pictures_tutorial-1.9.0/illumina/'\n",
    "chdir(tutorial_dir)\n",
    "FileLink = partial(FileLink, url_prefix=join('exercises', name, tutorial_dir))\n",
    "FileLinks = partial(FileLinks, url_prefix=join('exercises', name, tutorial_dir))"
   ]
  },
  {
   "cell_type": "markdown",
   "metadata": {},
   "source": [
    "## Running the Illumina Overview Tutorial\n",
    "\n",
    "You can now get started. Follow the steps found in the [Illumina Overview Tutorial](http://qiime.org/tutorials/illumina_overview_tutorial.html). You should begin with the steps under **Check our mapping file for errors** (the **Getting Started** steps have already been completed when you executed the steps above)."
   ]
  },
  {
   "cell_type": "code",
   "execution_count": null,
   "metadata": {
    "collapsed": false
   },
   "outputs": [],
   "source": []
  },
  {
   "cell_type": "markdown",
   "metadata": {},
   "source": [
    "## Working with OTU tables tutorial"
   ]
  },
  {
   "cell_type": "markdown",
   "metadata": {},
   "source": [
    "Follow the steps in the [working with OTU tables tutorial](http://nbviewer.ipython.org/github/biocore/qiime-workshops/blob/master/mahidol-university-thailand-2015/commands/Working%20with%20OTU%20tables.ipynb)."
   ]
  },
  {
   "cell_type": "code",
   "execution_count": null,
   "metadata": {
    "collapsed": true
   },
   "outputs": [],
   "source": []
  },
  {
   "cell_type": "markdown",
   "metadata": {},
   "source": [
    "## Running the 454 Overview Tutorial"
   ]
  },
  {
   "cell_type": "markdown",
   "metadata": {},
   "source": [
    "Run this cell to set up your environment:"
   ]
  },
  {
   "cell_type": "code",
   "execution_count": null,
   "metadata": {
    "collapsed": false
   },
   "outputs": [],
   "source": [
    "from os import chdir\n",
    "from os.path import exists, join\n",
    "from functools import partial\n",
    "from IPython.display import FileLinks, FileLink\n",
    "\n",
    "chdir(working_dir)\n",
    "\n",
    "!mkdir -p 454-overview-tutorial\n",
    "chdir('454-overview-tutorial')\n",
    "\n",
    "if not exists('qiime_overview_tutorial'):\n",
    "    !wget ftp://ftp.microbio.me/pub/qiime-files/qiime_overview_tutorial.zip\n",
    "    !unzip qiime_overview_tutorial.zip\n",
    "\n",
    "tutorial_dir = 'qiime_overview_tutorial/'\n",
    "chdir(tutorial_dir)\n",
    "FileLink = partial(FileLink, url_prefix=join('exercises', name, '454-overview-tutorial', tutorial_dir))\n",
    "FileLinks = partial(FileLinks, url_prefix=join('exercises', name, '454-overview-tutorial', tutorial_dir))"
   ]
  },
  {
   "cell_type": "markdown",
   "metadata": {},
   "source": [
    "You can now get started. Follow the steps found in the [454 Overview Tutorial](http://qiime.org/tutorials/tutorial.html). You should begin with the steps [here](http://qiime.org/tutorials/tutorial.html#validate-the-mapping-file). Skip the section titled \"Make an OTU network\" as this requires Cytoscape."
   ]
  },
  {
   "cell_type": "code",
   "execution_count": null,
   "metadata": {
    "collapsed": true
   },
   "outputs": [],
   "source": []
  },
  {
   "cell_type": "markdown",
   "metadata": {},
   "source": [
    "## Microbial forensics tutorial"
   ]
  },
  {
   "cell_type": "markdown",
   "metadata": {},
   "source": [
    "Follow the steps in the [microbial forensics tutorial](http://nbviewer.ipython.org/github/biocore/qiime-workshops/blob/master/mahidol-university-thailand-2015/commands/Microbial%20forensics.ipynb)."
   ]
  },
  {
   "cell_type": "code",
   "execution_count": null,
   "metadata": {
    "collapsed": true
   },
   "outputs": [],
   "source": []
  }
 ],
 "metadata": {
  "kernelspec": {
   "display_name": "Python 2",
   "language": "python",
   "name": "python2"
  },
  "language_info": {
   "codemirror_mode": {
    "name": "ipython",
    "version": 2
   },
   "file_extension": ".py",
   "mimetype": "text/x-python",
   "name": "python",
   "nbconvert_exporter": "python",
   "pygments_lexer": "ipython2",
   "version": "2.7.3"
  }
 },
 "nbformat": 4,
 "nbformat_minor": 0
}
